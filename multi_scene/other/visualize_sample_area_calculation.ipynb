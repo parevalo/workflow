{
 "cells": [
  {
   "cell_type": "code",
   "execution_count": 7,
   "metadata": {},
   "outputs": [
    {
     "data": {
      "text/html": [
       "<style>.container { width:100% !important; }</style>"
      ],
      "text/plain": [
       "<IPython.core.display.HTML object>"
      ]
     },
     "metadata": {},
     "output_type": "display_data"
    }
   ],
   "source": [
    "%matplotlib inline\n",
    "from ipywidgets import interact, interactive, IntSlider, HBox, VBox, Tab, Layout, Box, Label, BoundedFloatText\n",
    "import ipywidgets as widgets\n",
    "from IPython.display import display, HTML\n",
    "import matplotlib.pyplot as plt\n",
    "import matplotlib.ticker as tkr\n",
    "import numpy as np\n",
    "\n",
    "\n",
    "display(HTML(\"<style>.container { width:100% !important; }</style>\"))\n",
    "plt.style.use('ggplot')\n"
   ]
  },
  {
   "cell_type": "code",
   "execution_count": 8,
   "metadata": {
    "collapsed": true
   },
   "outputs": [],
   "source": [
    "# Total number of samples drawn from that class\n",
    "a=IntSlider(value=50, description='Other')\n",
    "b=IntSlider(min=0, max=1000, value=400, description='Forest', continuous_update=False)\n",
    "c=IntSlider(value=75, description='Grassl', continuous_update=False)\n",
    "d=IntSlider(value=50, description='Urban', continuous_update=False)\n",
    "e=IntSlider(value=75, description='Pasture', continuous_update=False)\n",
    "f=IntSlider(value=50, description='Regrowth', continuous_update=False)\n",
    "g=IntSlider(value=50, description='Water', continuous_update=False)\n",
    "h=IntSlider(value=50, description='FP', continuous_update=False)\n",
    "i=IntSlider(value=50, description='FR', continuous_update=False)\n",
    "j=IntSlider(value=50, description='GR', continuous_update=False)\n",
    "k=IntSlider(value=50, description='Unclass', continuous_update=False)\n",
    "l=IntSlider(value=50, description='LR', continuous_update=False)\n",
    "m=IntSlider(value=50, description='Buffer', continuous_update=False)"
   ]
  },
  {
   "cell_type": "code",
   "execution_count": 9,
   "metadata": {
    "collapsed": true
   },
   "outputs": [],
   "source": [
    "# Number of samples LABELLED AS A GIVEN CLASS (E.G DEFORESTATION)\n",
    "# i.e. total sum can't be higher than # of samples\n",
    "a2=IntSlider(value=7, description='Other', continuous_update=False)\n",
    "b2=IntSlider(min=0, max=1000, value=1, description='Forest', continuous_update=False)\n",
    "c2=IntSlider(value=0, description='Grassl', continuous_update=False)\n",
    "d2=IntSlider(value=0, description='Urban', continuous_update=False)\n",
    "e2=IntSlider(value=0, description='Pasture', continuous_update=False)\n",
    "f2=IntSlider(value=0, description='Regrowth', continuous_update=False)\n",
    "g2=IntSlider(value=0, description='Water', continuous_update=False)\n",
    "h2=IntSlider(value=31, description='FP', continuous_update=False)\n",
    "i2=IntSlider(value=10, description='FR', continuous_update=False)\n",
    "j2=IntSlider(value=1, description='GR', continuous_update=False)\n",
    "k2=IntSlider(value=1, description='Unclass', continuous_update=False)\n",
    "l2=IntSlider(value=17, description='LR', continuous_update=False)\n",
    "m2=IntSlider(value=11, description='Buffer', continuous_update=False)"
   ]
  },
  {
   "cell_type": "code",
   "execution_count": 10,
   "metadata": {
    "collapsed": true
   },
   "outputs": [],
   "source": [
    "# Map weights in proportion format (0-1)\n",
    "a3=BoundedFloatText(value=0.001222, min=0, max=1, description='Other')\n",
    "b3=BoundedFloatText(min=0, max=1, value=0.884724, description='Forest')\n",
    "c3=BoundedFloatText(value=0.030305, description='Grassl')\n",
    "d3=BoundedFloatText(value=0.001335, description='Urban')\n",
    "e3=BoundedFloatText(value=0.052329, description='Pasture')\n",
    "f3=BoundedFloatText(value=0.012606, description='Regrowth')\n",
    "g3=BoundedFloatText(value=0.013453, description='Water')\n",
    "h3=BoundedFloatText(value=0.001236, description='FP')\n",
    "i3=BoundedFloatText(value=0.000428, description='FR')\n",
    "j3=BoundedFloatText(value=0.000410, description='GR')\n",
    "k3=BoundedFloatText(value=0.000001, description='Unclass')\n",
    "l3=BoundedFloatText(value=0.000251, description='LR')\n",
    "m3=BoundedFloatText(value=0.001700, description='Buffer')\n"
   ]
  },
  {
   "cell_type": "code",
   "execution_count": 11,
   "metadata": {},
   "outputs": [
    {
     "data": {
      "text/plain": [
       "array([ 50, 400,  75,  50,  75,  50,  50,  50,  50,  50,  50,  50,  50])"
      ]
     },
     "execution_count": 11,
     "metadata": {},
     "output_type": "execute_result"
    }
   ],
   "source": [
    "firstgroup = (a,b,c,d,e,f,g,h,i,j,k,l,m)\n",
    "np.array([w.value for w in firstgroup])\n"
   ]
  },
  {
   "cell_type": "code",
   "execution_count": 21,
   "metadata": {},
   "outputs": [
    {
     "data": {
      "application/vnd.jupyter.widget-view+json": {
       "model_id": "a01d2174583d4feea2c07a488debb1e6"
      }
     },
     "metadata": {},
     "output_type": "display_data"
    }
   ],
   "source": [
    "area_text = Label(layout=Layout(width='100%'), continuous_update=False)\n",
    "arealow_text = Label(layout=Layout(width='100%'))\n",
    "areaup_text = Label(layout=Layout(width='100%'))\n",
    "halfci_text = Label(layout=Layout(width='100%'))\n",
    "me_text = Label(layout=Layout(width='100%'))\n",
    "prod_acc_text = Label(layout=Layout(width='100%'))\n",
    "weight_sum_text = Label(layout=Layout(width='100%'))\n",
    "sample_sum_text = Label(layout=Layout(width='100%'))\n",
    "ref_sum_text = Label(layout=Layout(width='100%'))\n",
    "\n",
    "\n",
    "def plot_areas(a,b,c,d,e,f,g,h,i,j,k,l,m, \n",
    "               a2,b2,c2,d2,e2,f2,g2,h2,i2,j2,k2,l2,m2,\n",
    "               a3,b3,c3,d3,e3,f3,g3,h3,i3,j3,k3,l3,m3):\n",
    "    ni = np.array((a,b,c,d,e,f,g,h,i,j,k,l,m))\n",
    "    pix = np.array((635555, 460268682, 15765829, 694635, 27223852, 6558022, 6998656, 642978, 222843, 213419, 386, 130391, 884436))\n",
    "    wh = np.array((a3,b3,c3,d3,e3,f3,g3,h3,i3,j3,k3,l3,m3))\n",
    "    map_area = (pix * 30.0**2) / (100.0 **2)\n",
    "    total_area = map_area.sum()\n",
    "    \n",
    "    ref_count = np.array((a2,b2,c2,d2,e2,f2,g2,h2,i2,j2,k2,l2,m2))\n",
    "    \n",
    "    #print(\"Sum of reference labels is {}\".format(ref_count.sum()))\n",
    "    weight_sum_text.value = \"Total: \" +  str(wh.sum())\n",
    "    sample_sum_text.value = \"Total: \" +  str(ni.sum())\n",
    "    ref_sum_text.value = \"Total: \" +  str(ref_count.sum())\n",
    "    \n",
    "    # Area proportion, standard error, area, 95% CI and margin of error\n",
    "    area_prop = (ref_count * wh) / ni\n",
    "    area_prop_se = np.sqrt(np.sum((wh * area_prop - area_prop**2) / (ni - 1)))\n",
    "    area_ha = area_prop.sum() * total_area\n",
    "    area_ci = area_prop_se * 1.96 * total_area\n",
    "    area_lower = area_ha - area_ci\n",
    "    area_upper = area_ha + area_ci\n",
    "    margin_error = (area_ci/area_ha)*100\n",
    "    prod_acc = (area_prop / area_prop.sum()*100)[7] #only for FP\n",
    "    \n",
    "    \n",
    "    area_text.value = \"Area: \" + \"{:,}\".format(round(area_ha))\n",
    "    arealow_text.value = \"Lower bound: \" + \"{:,}\".format(round(area_lower))\n",
    "    areaup_text.value = \"Upper bound: \" + \"{:,}\".format(round(area_upper))\n",
    "    me_text.value = \"Margin of error: \" + \"{:,}\".format(round(margin_error))\n",
    "    halfci_text.value = \"CI / 2 : \" + \"{:,}\".format(round(area_ci))\n",
    "    prod_acc_text.value = \"Producer's accuracy : \" + \"{:,}\".format(round(prod_acc))\n",
    "    \n",
    "    \n",
    "    \n",
    "    # Plot\n",
    "    fig = plt.figure(figsize=(10,10))\n",
    "    ax = fig.add_subplot(111)\n",
    "    ax.errorbar([1], area_ha, yerr=area_ci, fmt='ko', linewidth=2)\n",
    "    ax.axhline(0, color='black')\n",
    "    ax.set_ylim(-200000, 1000000)\n",
    "    ax.set_xlabel('Forest to pasture', fontsize=18)\n",
    "    ax.set_ylabel('Area [ha]', fontsize=18)\n",
    "    ax.get_yaxis().set_major_formatter(tkr.FuncFormatter(lambda x, p: format(int(x), ',')))\n",
    "    ax.xaxis.set_ticklabels([])\n",
    "    ax.yaxis.set_tick_params(labelsize=18)\n",
    "    plt.show()\n",
    "    \n",
    "    \n",
    "        \n",
    "\n",
    "def reset_values(x):\n",
    "    \"\"\"Reset the interactive plots to inital values.\"\"\"\n",
    "    a.value = 50\n",
    "    b.value = 400\n",
    "    c.value = 75\n",
    "    d.value = 50\n",
    "    e.value = 75\n",
    "    f.value = 50\n",
    "    g.value = 50\n",
    "    h.value = 50\n",
    "    i.value = 50\n",
    "    j.value = 50\n",
    "    k.value = 50\n",
    "    l.value = 50\n",
    "    m.value = 50\n",
    "    \n",
    "    a2.value = 7\n",
    "    b2.value = 1\n",
    "    c2.value = 0\n",
    "    d2.value = 0\n",
    "    e2.value = 0\n",
    "    f2.value = 0\n",
    "    g2.value = 0\n",
    "    h2.value = 31\n",
    "    i2.value = 10\n",
    "    j2.value = 1\n",
    "    k2.value = 1\n",
    "    l2.value = 17\n",
    "    m2.value = 11\n",
    "    \n",
    "    a3.value = 0.001222\n",
    "    b3.value = 0.884724\n",
    "    c3.value = 0.030305\n",
    "    d3.value = 0.001335\n",
    "    e3.value = 0.052329\n",
    "    f3.value = 0.012606\n",
    "    g3.value = 0.013453\n",
    "    h3.value = 0.001236\n",
    "    i3.value = 0.000428\n",
    "    j3.value = 0.000410\n",
    "    k3.value = 0.000001\n",
    "    l3.value = 0.000251\n",
    "    m3.value = 0.001700\n",
    "    \n",
    "reset_button = widgets.Button(description = \"Reset\")\n",
    "reset_button.on_click(reset_values)\n",
    "\n",
    "\n",
    "plot = interactive(plot_areas, \n",
    "                   a=a,b=b,c=c,d=d,e=e,f=f,g=g,h=h,i=i,j=j,k=k,l=l,m=m,\n",
    "                   a2=a2,b2=b2,c2=c2,d2=d2,e2=e2,f2=f2,g2=g2,h2=h2,i2=i2,j2=j2,k2=k2,l2=l2,m2=m2,\n",
    "                   a3=a3,b3=b3,c3=c3,d3=d3,e3=e3,f3=f3,g3=g3,h3=h3,i3=i3,j3=j3,k3=k3,l3=l3,m3=m3, continuous_update=False)\n",
    "\n",
    "sample_box = VBox([Label(value=\"# samples drawn per strata\", layout=Layout(width='100%')), \n",
    "                   VBox(plot.children[0:13]), sample_sum_text])\n",
    "refcount_box = VBox([Label(value=\"# samples mapped as this class\", layout=Layout(width='100%')), \n",
    "                     VBox(plot.children[13:26]), ref_sum_text])\n",
    "weight_box = VBox([Label(value=\"Map weights (0-1)\", layout=Layout(width='100%')), \n",
    "                   VBox(plot.children[26:-1]), weight_sum_text])\n",
    "controlbox = HBox([weight_box, sample_box, refcount_box])\n",
    "plotbox = VBox([plot.children[-1], area_text, halfci_text, arealow_text, areaup_text, me_text, prod_acc_text, reset_button], layout=Layout(width='100%'))\n",
    "\n",
    "iplot = HBox([controlbox, plotbox])\n",
    "\n",
    "display(iplot)"
   ]
  },
  {
   "cell_type": "code",
   "execution_count": 7,
   "metadata": {
    "collapsed": true
   },
   "outputs": [],
   "source": [
    "# Show: \n",
    "# - Margin of error DECREASES as areas and CI get higher because of labeling errors\n",
    "# - Doubling the # of forest samples (800) and the # of omissions (2, and even higher) \n",
    "# - clearly improves the estimates and makes the CI avoid zero.\n",
    "# - Just fixing the one forest to pasture omission sample makes the producer's accuracy go\n",
    "# from 21% to 51%!\n",
    "# \n",
    "# Allow input to set axis limits\n",
    "# find a way to make it easier to input fnc arguments (e.g. pass a dictionary, use a class?)\n",
    "# Once I figure that out, add dropdown to select the current settings (i.e. defaults) for different classes.\n"
   ]
  },
  {
   "cell_type": "code",
   "execution_count": 36,
   "metadata": {
    "collapsed": true
   },
   "outputs": [],
   "source": [
    "?interactive"
   ]
  },
  {
   "cell_type": "code",
   "execution_count": null,
   "metadata": {
    "collapsed": true
   },
   "outputs": [],
   "source": []
  }
 ],
 "metadata": {
  "kernelspec": {
   "display_name": "Python 3",
   "language": "python",
   "name": "python3"
  },
  "language_info": {
   "codemirror_mode": {
    "name": "ipython",
    "version": 3
   },
   "file_extension": ".py",
   "mimetype": "text/x-python",
   "name": "python",
   "nbconvert_exporter": "python",
   "pygments_lexer": "ipython3",
   "version": "3.5.3"
  }
 },
 "nbformat": 4,
 "nbformat_minor": 2
}

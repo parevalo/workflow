{
 "cells": [
  {
   "cell_type": "code",
   "execution_count": 1,
   "metadata": {
    "slideshow": {
     "slide_type": "skip"
    }
   },
   "outputs": [
    {
     "data": {
      "text/html": [
       "<script>requirejs.config({paths: { 'plotly': ['https://cdn.plot.ly/plotly-latest.min']},});if(!window.Plotly) {{require(['plotly'],function(plotly) {window.Plotly=plotly;});}}</script>"
      ],
      "text/vnd.plotly.v1+html": [
       "<script>requirejs.config({paths: { 'plotly': ['https://cdn.plot.ly/plotly-latest.min']},});if(!window.Plotly) {{require(['plotly'],function(plotly) {window.Plotly=plotly;});}}</script>"
      ]
     },
     "metadata": {},
     "output_type": "display_data"
    },
    {
     "data": {
      "text/html": [
       "<style>.container { width:100% !important; }</style>"
      ],
      "text/plain": [
       "<IPython.core.display.HTML object>"
      ]
     },
     "metadata": {},
     "output_type": "display_data"
    }
   ],
   "source": [
    "%matplotlib nbagg\n",
    "import plotly.offline as py\n",
    "py.init_notebook_mode(connected=True)\n",
    "from ipywidgets import interact, interactive, FloatSlider, IntSlider, HBox, VBox, Tab, Layout, Box, Label, BoundedFloatText, Dropdown\n",
    "import ipywidgets as widgets\n",
    "from IPython.display import display, HTML\n",
    "import matplotlib\n",
    "import matplotlib.pyplot as plt\n",
    "import matplotlib.ticker as tkr\n",
    "from cycler import cycler\n",
    "import numpy as np\n",
    "import pandas as pd\n",
    "from collections import OrderedDict\n",
    "\n",
    "\n",
    "display(HTML(\"<style>.container { width:100% !important; }</style>\"))\n",
    "plt.style.use('ggplot')\n",
    "\n"
   ]
  },
  {
   "cell_type": "markdown",
   "metadata": {
    "slideshow": {
     "slide_type": "skip"
    }
   },
   "source": [
    "### Functions to build the experiment"
   ]
  },
  {
   "cell_type": "code",
   "execution_count": 3,
   "metadata": {
    "collapsed": true,
    "slideshow": {
     "slide_type": "skip"
    }
   },
   "outputs": [],
   "source": [
    "# Define a fnc to create a sample error matrix with a given set of properties\n",
    "\n",
    "def calculate_weights(nclass, weight_dist, start_value):\n",
    "    \"\"\"Returns a weight distribution for given number of classes and a starting\n",
    "    point for the sequence. The weight distributions are 'linear' and \n",
    "    'geometric'. The weights are calculated using the interval from 'start_value' to 1. \n",
    "    That is, a start value close to 0 will give more unbalanced weights, and\n",
    "    a value of 1 will give an equal distribution for any case. \n",
    "    'geometric' requires a starting point larger than zero.\n",
    "    \n",
    "    \"\"\"\n",
    "    # Create weights\n",
    "    if weight_dist == 'linear':\n",
    "        sequence = np.linspace(start_value,1, nclass)\n",
    "    elif weight_dist == 'geometric':\n",
    "        sequence = np.geomspace(start_value,1, nclass)\n",
    "    \n",
    "    wh = (1 * sequence) / sequence.sum()\n",
    "    \n",
    "    # Invert weights to have bigger ones at the beginning\n",
    "    wh = -np.sort(-wh)\n",
    "    \n",
    "    return wh\n",
    "\n",
    "\n",
    "def adjust_values(values, target_sum):\n",
    "    \"\"\"Calculates the sum of the ceiling values and substracts from the\n",
    "    largest value to match the desired total sum of the elements\"\"\"\n",
    "    \n",
    "    rounded_vals = np.ceil(values)\n",
    "    totsum= rounded_vals.sum()\n",
    "\n",
    "    while True:\n",
    "        totsum = rounded_vals.sum()\n",
    "        maxind = np.argmax(rounded_vals)\n",
    "        if (totsum - target_sum) == 0:\n",
    "            break\n",
    "        else:\n",
    "            rounded_vals[maxind] -= 1\n",
    "\n",
    "    return rounded_vals        \n",
    "\n",
    "\n",
    "def check_weights(nclass, weights):\n",
    "    \"\"\"Check if the number of weights equals number of classes and\n",
    "    if they add up to 1. \n",
    "    \"\"\"\n",
    "    return (len(weights) == nclass) & (round(weights.sum(),3) == 1.0)\n",
    "\n",
    "\n",
    "def create_error_matrix(nclass, str_wh, samp_wh, tot_sample_size):\n",
    "    \"\"\"\n",
    "    Create artificial error matrix based on number of classes, a strata weight distribution,\n",
    "    total sample size and how to distribute it across strata. Other arguments if weights are \n",
    "    specified manually. \n",
    "    \"\"\"\n",
    "        \n",
    "    # Check that weights add to 1 and the count matches the number of classes\n",
    "    if not check_weights(nclass, str_wh):\n",
    "        print(\"Error: Number of strata weights must be equal to number of classes and the sum add to 1\")\n",
    "        return\n",
    "    \n",
    "    if not check_weights(nclass, samp_wh):\n",
    "        print(\"Error: Number of strata weights must be equal to number of classes and the sum add to 1\")\n",
    "        return\n",
    "    \n",
    "    \n",
    "    # Create sample size per stratum, proportional to weight\n",
    "    # Adjust sizes for the sum to match the input total\n",
    "    ni = str_wh * tot_sample_size\n",
    "    ni = adjust_values(ni, tot_sample_size)\n",
    "    \n",
    "    # Create perfect confusion matrix and modify it based on the sample weights\n",
    "    pcmat = np.zeros((nclass, nclass))\n",
    "    np.fill_diagonal(pcmat, ni)\n",
    "    diag = np.diag_indices(nclass)\n",
    "\n",
    "    # Get redistributed counts    \n",
    "    out_cm = [samp_wh * n for n in ni]\n",
    "    # Shift them to match the structure of the matrix\n",
    "    out_cm = [np.roll(a, b) for a, b in zip(out_cm, diag[0])]\n",
    "    # Adjust values for the sum to match the total sample size\n",
    "    out_cm = [adjust_values(a, b) for a, b in zip(out_cm, ni)]\n",
    "    # Stack and calculate sum for verification purposes\n",
    "    out_cm = np.vstack(out_cm)\n",
    "\n",
    "    out_cm_sum = out_cm.sum(axis=1) # ADD CHECK!\n",
    "\n",
    "    # Passing them as list of tuple preserves the order with OrderedDict\n",
    "    return OrderedDict([('conf_mat', out_cm), ('ni', ni), ('str_wh', str_wh), ('samp_wh', samp_wh), ('rowsum', out_cm_sum)])\n",
    "\n",
    "\n",
    "# Calculate and add multiple items to the dictionary\n",
    "def run_calculations(d, total_area):\n",
    "    \"\"\"Takes a dictionary with confusion matrix, weights, sample counts, and a total area (in ha)\n",
    "    and runs all the calculations necessary for the experiments\n",
    "    \"\"\" \n",
    "    d['conf_mat_prop'] = (d['conf_mat'] * d['str_wh']) / d['ni']\n",
    "    d['area_prop'] = d['conf_mat_prop'].sum(axis=0) \n",
    "    d['area_ha'] =  d['area_prop']* total_area\n",
    "    d['area_prop_se'] = np.sqrt(np.sum((d['str_wh'] * d['conf_mat_prop'] - d['conf_mat_prop']**2) / (d['ni'] - 1), axis=0))\n",
    "    d['area_ci'] = d['area_prop_se'] * 1.96 * total_area\n",
    "    d['margin_error'] = d['area_ci'] / d['area_ha']\n",
    "    d['usr_acc'] = np.diag(d['conf_mat_prop'] / d['conf_mat_prop'].sum(axis=1)) * 100\n",
    "    d['prod_acc'] = np.diag(d['conf_mat_prop'] / d['conf_mat_prop'].sum(axis=0)) * 100\n",
    "    d['tot_acc'] = np.diag(d['conf_mat_prop']).sum()\n",
    "    \n",
    "    return d\n",
    "\n",
    "\n",
    "def create_dataframe(cm_dict, keys_list):\n",
    "    \"\"\"Assemble an easy to view dataframe from a list of elements in a dictionary.\n",
    "    They should match dimensions. For now it just assumes that the first key passed is\n",
    "    the confusion matrix, and checks by name only...\n",
    "    \"\"\"\n",
    "    \n",
    "    if not(keys_list[0] == 'conf_mat' or keys_list[0] == 'conf_mat_prop'):\n",
    "        print('Error: First element must be confusion matrix')\n",
    "        return\n",
    "    \n",
    "    # Create pandas df to store everything\n",
    "    colnames = ['ref{}'.format(i+1) for i in range(cm_dict[keys_list[0]].shape[0])]\n",
    "    rownames = ['map{}'.format(i+1) for i in range(cm_dict[keys_list[0]].shape[0])]\n",
    "    \n",
    "    # Assemble df and rename cols and rows\n",
    "    df = pd.concat([pd.DataFrame(cm_dict.get(i)) for i in keys_list], axis=1)\n",
    "    colnames.extend(keys_list[1:])\n",
    "    df.columns = colnames\n",
    "    \n",
    "    rownames_dict = {i: v for i,v in enumerate(rownames)}\n",
    "    df.rename(rownames_dict, inplace=True)\n",
    "    \n",
    "    \n",
    "    return df\n",
    "\n",
    "# def create_tidy_dataframe(cm_dict, keys_list):\n",
    "#     \"\"\" Assemble a tidy dataframe that can be used more easily with seaborn and other \n",
    "#     packages for analysis and visualization\n",
    "#     \"\"\"\n",
    "    \n",
    "#     # Create pandas df to store everything\n",
    "#     refnames = ['ref{}'.format(i+1) for i in range(cm_dict[keys_list[0]].shape[0])]\n",
    "#     mapnames = ['map{}'.format(i+1) for i in range(cm_dict[keys_list[0]].shape[0])]\n",
    "#     df = \n",
    "    \n",
    "# Wrap funcs in a single one\n",
    "\n",
    "def run_experiment(numclass, str_w_dist, samp_w_dist, str_w_val, samp_w_val, sample_size, total_area):\n",
    "    \"\"\" Run experiement and return a single dictionary with all the relevant results \"\"\"\n",
    "    str_weights =  calculate_weights(numclass, str_w_dist, str_w_val)\n",
    "    sample_weights = calculate_weights(numclass, samp_w_dist, samp_w_val)\n",
    "    out_dict = create_error_matrix(numclass, str_weights, sample_weights, sample_size)\n",
    "    out_dict = run_calculations(out_dict, total_area)\n",
    "    return out_dict\n",
    "\n",
    "def create_plot_dict(d, keys_list):\n",
    "    \"\"\" Take a results dictionary and return a dictionary with arrays formatted\n",
    "    so that they can be readily plotted\n",
    "    \"\"\"\n",
    "    out_dict = OrderedDict()\n",
    "    for k in keys_list:\n",
    "        out_dict[k] = np.vstack([d.get(x)[k] for x in d.keys()])\n",
    "        \n",
    "    return out_dict"
   ]
  },
  {
   "cell_type": "markdown",
   "metadata": {
    "slideshow": {
     "slide_type": "skip"
    }
   },
   "source": [
    "### Run!"
   ]
  },
  {
   "cell_type": "code",
   "execution_count": 4,
   "metadata": {
    "collapsed": true,
    "slideshow": {
     "slide_type": "skip"
    }
   },
   "outputs": [],
   "source": [
    "# Define global variables\n",
    "total_area = 100000\n",
    "sample_size = 1000\n",
    "df_key_list = ['conf_mat_prop', 'ni', 'str_wh', 'prod_acc', 'area_ha', 'area_ci','margin_error']"
   ]
  },
  {
   "cell_type": "code",
   "execution_count": 5,
   "metadata": {
    "slideshow": {
     "slide_type": "skip"
    }
   },
   "outputs": [
    {
     "data": {
      "text/html": [
       "<div>\n",
       "<style>\n",
       "    .dataframe thead tr:only-child th {\n",
       "        text-align: right;\n",
       "    }\n",
       "\n",
       "    .dataframe thead th {\n",
       "        text-align: left;\n",
       "    }\n",
       "\n",
       "    .dataframe tbody tr th {\n",
       "        vertical-align: top;\n",
       "    }\n",
       "</style>\n",
       "<table border=\"1\" class=\"dataframe\">\n",
       "  <thead>\n",
       "    <tr style=\"text-align: right;\">\n",
       "      <th></th>\n",
       "      <th>ref1</th>\n",
       "      <th>ref2</th>\n",
       "      <th>ref3</th>\n",
       "      <th>ref4</th>\n",
       "      <th>ni</th>\n",
       "      <th>str_wh</th>\n",
       "      <th>samp_wh</th>\n",
       "      <th>rowsum</th>\n",
       "    </tr>\n",
       "  </thead>\n",
       "  <tbody>\n",
       "    <tr>\n",
       "      <th>map1</th>\n",
       "      <td>313.0</td>\n",
       "      <td>147.0</td>\n",
       "      <td>68.0</td>\n",
       "      <td>32.0</td>\n",
       "      <td>560.0</td>\n",
       "      <td>0.561923</td>\n",
       "      <td>0.561923</td>\n",
       "      <td>560.0</td>\n",
       "    </tr>\n",
       "    <tr>\n",
       "      <th>map2</th>\n",
       "      <td>15.0</td>\n",
       "      <td>145.0</td>\n",
       "      <td>69.0</td>\n",
       "      <td>32.0</td>\n",
       "      <td>261.0</td>\n",
       "      <td>0.260822</td>\n",
       "      <td>0.260822</td>\n",
       "      <td>261.0</td>\n",
       "    </tr>\n",
       "    <tr>\n",
       "      <th>map3</th>\n",
       "      <td>15.0</td>\n",
       "      <td>7.0</td>\n",
       "      <td>68.0</td>\n",
       "      <td>32.0</td>\n",
       "      <td>122.0</td>\n",
       "      <td>0.121063</td>\n",
       "      <td>0.121063</td>\n",
       "      <td>122.0</td>\n",
       "    </tr>\n",
       "    <tr>\n",
       "      <th>map4</th>\n",
       "      <td>15.0</td>\n",
       "      <td>7.0</td>\n",
       "      <td>4.0</td>\n",
       "      <td>31.0</td>\n",
       "      <td>57.0</td>\n",
       "      <td>0.056192</td>\n",
       "      <td>0.056192</td>\n",
       "      <td>57.0</td>\n",
       "    </tr>\n",
       "  </tbody>\n",
       "</table>\n",
       "</div>"
      ],
      "text/plain": [
       "       ref1   ref2  ref3  ref4     ni    str_wh   samp_wh  rowsum\n",
       "map1  313.0  147.0  68.0  32.0  560.0  0.561923  0.561923   560.0\n",
       "map2   15.0  145.0  69.0  32.0  261.0  0.260822  0.260822   261.0\n",
       "map3   15.0    7.0  68.0  32.0  122.0  0.121063  0.121063   122.0\n",
       "map4   15.0    7.0   4.0  31.0   57.0  0.056192  0.056192    57.0"
      ]
     },
     "execution_count": 5,
     "metadata": {},
     "output_type": "execute_result"
    }
   ],
   "source": [
    "# Single\n",
    "test_weights = calculate_weights(4, 'geometric', 0.1)\n",
    "dts1 = create_error_matrix(4, test_weights, test_weights, sample_size)\n",
    "dts1\n",
    "create_dataframe(dts1, list(dts1.keys()))"
   ]
  },
  {
   "cell_type": "markdown",
   "metadata": {
    "slideshow": {
     "slide_type": "skip"
    }
   },
   "source": [
    "### Interactive plots - vary sample distribution for all values of strata weight"
   ]
  },
  {
   "cell_type": "code",
   "execution_count": 6,
   "metadata": {
    "slideshow": {
     "slide_type": "skip"
    }
   },
   "outputs": [
    {
     "data": {
      "application/vnd.jupyter.widget-view+json": {
       "model_id": "ef95f98b199d4eb3a6ede2f04cf1f155"
      }
     },
     "metadata": {},
     "output_type": "display_data"
    }
   ],
   "source": [
    "numclass=IntSlider(min=2, max=10, value=4, description='Number of classes', continuous_update=False)\n",
    "sample_size=IntSlider(min=1000, max=200000, value=100000, description='Total sample size', continuous_update=False)\n",
    "total_area=IntSlider(min=1000, max=200000, value=100000, description='Total area [ha]', continuous_update=False)\n",
    "samp_w_val=FloatSlider(min=0, max=1.0, value=1, description='Sample weight balance', continuous_update=False, readout_format='.4f')\n",
    "samp_w_dist = Dropdown(options={'linear': 'linear', 'geometric': 'geometric'}, value='linear', description='Sample weight distribution:')\n",
    "str_w_dist = Dropdown(options={'linear': 'linear', 'geometric': 'geometric'}, value='linear', description='Strata weight distribution:')\n",
    "weights_text = Label(layout=Layout(width='100%'), continuous_update=False)\n",
    "\n",
    "\n",
    "\n",
    "def interact_plot(numclass, total_area, sample_size, str_w_dist, samp_w_dist, samp_w_val):\n",
    "    \"\"\"Plots all vars coming from the formatted results lis agains each other. \n",
    "    For each of those arrays, rows are the observations and columns are different classes. \n",
    "    Requires number of classes, total area, distribution of strata weights, distribution of\n",
    "    sample weights, and value to calculate sample weights.\n",
    "    \"\"\"\n",
    "    \n",
    "    results_dict = OrderedDict()\n",
    "\n",
    "    # Calculate all levels of strata weights for a single value of sample weights\n",
    "    for i in np.linspace(0.001, 1, 20):\n",
    "        results_dict[i] = run_experiment(numclass, str_w_dist, samp_w_dist, i, samp_w_val, sample_size, total_area)\n",
    "     \n",
    "    # Make this block more generalizable    \n",
    "    plot_d = create_plot_dict(results_dict, ['str_wh', 'samp_wh','prod_acc', 'margin_error', 'area_ci', 'area_prop'])\n",
    "    weights_text.value = \"Actual weights: {}\".format(str(np.round(plot_d['samp_wh'][0,:], 2)))\n",
    "    # We want to plot everything against the FIRST weight (e.g. the weight of the dominant class (stratum), or the\n",
    "    # weight of the correct class (sample diagonals))\n",
    "    plot_d['str_wh'] = plot_d['str_wh'][:, 0]\n",
    "    \n",
    "    key_list = list(plot_d.keys())\n",
    "    nvars = len(key_list)\n",
    "    matplotlib.rcParams['figure.figsize'] = (9.0, 9.0)\n",
    "    colors = [plt.cm.Set1(i) for i in range(numclass)]    \n",
    "    plt.rc('axes', prop_cycle=(cycler('color', colors)))\n",
    "    f, ax = plt.subplots(nvars, nvars, sharex='col', sharey='row')\n",
    "    \n",
    "    for i,k1 in enumerate(key_list):\n",
    "        ax[nvars-1,i].set_xlabel(key_list[i])\n",
    "        for j,k2 in enumerate(key_list[::-1]):\n",
    "            ax[j, i].plot(plot_d[k1], plot_d[k2])\n",
    "            ax[j,0].set_ylabel(key_list[::-1][j])\n",
    "    \n",
    "    f.legend([l for l in ax[0,0].lines],\n",
    "             [\"Class {} \".format(i+1) for i in range(numclass)],\n",
    "              loc='upper right', fontsize=12)\n",
    "    \n",
    "    f.suptitle(\"Fixed sample weight, all strata weights\")\n",
    "           \n",
    "    return results_dict\n",
    "\n",
    "\n",
    "intplot = interactive(interact_plot, numclass=numclass, total_area=total_area, sample_size=sample_size,\n",
    "                      str_w_dist=str_w_dist, samp_w_dist=samp_w_dist, samp_w_val=samp_w_val, continuous_update=False)\n",
    "controlbox = VBox([VBox(intplot.children[0:6]), weights_text])\n",
    "plotbox = VBox([intplot.children[-1]], layout=Layout(width='90%'))\n",
    "iplot = HBox([plotbox, controlbox])\n",
    "display(iplot)"
   ]
  },
  {
   "cell_type": "code",
   "execution_count": null,
   "metadata": {
    "collapsed": true
   },
   "outputs": [],
   "source": [
    "# CONVERT OUTPUT TO A SINGLE PANDAS DF AND USE PANDAS.TOOLS.PLOTTING\n",
    "\n"
   ]
  },
  {
   "cell_type": "code",
   "execution_count": null,
   "metadata": {
    "collapsed": true,
    "slideshow": {
     "slide_type": "skip"
    }
   },
   "outputs": [],
   "source": [
    "# Temporary fix to get any confusion matrix we want.\n",
    "create_dataframe(intplot.result[list(intplot.result.keys())[0]], ['conf_mat', 'ni', 'str_wh', 'prod_acc', 'area_ha', 'area_prop'])"
   ]
  },
  {
   "cell_type": "code",
   "execution_count": null,
   "metadata": {
    "collapsed": true,
    "slideshow": {
     "slide_type": "skip"
    }
   },
   "outputs": [],
   "source": [
    "#intplot.result\n",
    "plt.close(\"all\")"
   ]
  },
  {
   "cell_type": "markdown",
   "metadata": {
    "slideshow": {
     "slide_type": "notes"
    }
   },
   "source": [
    "- Ignore sample weight column. High sample vals to make plots smoother\n",
    "- Show initial state for 'linear' and 'geometric' strata weights\n",
    "- More dominant class, higher accuracy for that class. The more dominant (geometric), the starker the difference.\n",
    "- Almost perfect confusion matrix (geometric 0.001) makes the margin of error much bigger as the strata weight of the dominant class gets higher.\n",
    "- In that same scenario (both geometric), it only takes 1% of the total samples in the diagonal to make the prod. acc. fall to 50% when the strata weight is around 75%.\n",
    "- Then if we look at margin_error vs accuracy, we could determine that in order to get a margin of error in the lower numbers, we need to achieve really high accuracy. \n",
    "- Larger CI and margins of error are obtained when area is large, total sample is small (e.g. 1000) and classes are very unbalanced (both geometric, 0.0001)\n",
    "- Margin of error  can be seen simply as the proportion of class area that constitutes the CI. \n",
    "- For example, if we want the margin of error to be just 10%, that value is associated with a producer's accuracy of around 80%, for the example described previously.\n",
    "- For most cases, small margins of error can only be achieved with accuracies above 50%"
   ]
  },
  {
   "cell_type": "markdown",
   "metadata": {
    "slideshow": {
     "slide_type": "skip"
    }
   },
   "source": [
    "### Interactive plots - vary strata distribution for all values of sample weight"
   ]
  },
  {
   "cell_type": "code",
   "execution_count": 7,
   "metadata": {
    "slideshow": {
     "slide_type": "skip"
    }
   },
   "outputs": [
    {
     "data": {
      "application/vnd.jupyter.widget-view+json": {
       "model_id": "1ae3c90d26e94d57be8622a72f87055c"
      }
     },
     "metadata": {},
     "output_type": "display_data"
    }
   ],
   "source": [
    "numclass=IntSlider(min=2, max=10, value=4, description='Number of classes', continuous_update=False)\n",
    "sample_size=IntSlider(min=1000, max=200000, value=100000, description='Total sample size', continuous_update=False)\n",
    "total_area=IntSlider(min=1000, max=200000, value=100000, description='Total area [ha]', continuous_update=False)\n",
    "str_w_val=FloatSlider(min=0, max=1.0, value=1, description='Strata weight balance', continuous_update=False, readout_format='.4f')\n",
    "samp_w_dist = Dropdown(options={'linear': 'linear', 'geometric': 'geometric'}, value='linear', description='Sample weight distribution:')\n",
    "str_w_dist = Dropdown(options={'linear': 'linear', 'geometric': 'geometric'}, value='linear', description='Strata weight distribution:')\n",
    "\n",
    "\n",
    "\n",
    "def interact_plot(numclass, total_area, sample_size, str_w_dist, samp_w_dist, str_w_val):\n",
    "    \"\"\"Plots all vars coming from the formatted results lis agains each other. \n",
    "    For each of those arrays, rows are the observations and columns are different classes. \n",
    "    Requires number of classes, total area, distribution of strata weights, distribution of\n",
    "    sample weights, and value to calculate strata weights.\"\"\"\n",
    "    \n",
    "    results_dict = OrderedDict()\n",
    "\n",
    "    # Calculate all levels of strata weights for a single value of sample weights\n",
    "    for i in np.linspace(0.001, 1, 20):\n",
    "        results_dict[i] = run_experiment(numclass, str_w_dist, samp_w_dist, str_w_val, i, sample_size, total_area)\n",
    "\n",
    "    # Make this block more generalizable    \n",
    "    plot_d = create_plot_dict(results_dict, ['str_wh', 'samp_wh','prod_acc', 'margin_error', 'area_ci', 'area_prop'])\n",
    "    weights_text.value = \"Actual weights: {}\".format(str(np.round(plot_d['str_wh'][0,:], 2)))\n",
    "    # We want to plot everything against the FIRST weight (e.g. the weight of the dominant class (stratum), or the\n",
    "    # weight of the correct class (sample diagonals))\n",
    "    plot_d['samp_wh'] = plot_d['samp_wh'][:, 0]\n",
    "    \n",
    "    key_list = list(plot_d.keys())\n",
    "    nvars = len(key_list)\n",
    "    matplotlib.rcParams['figure.figsize'] = (9.0, 9.0)\n",
    "    colors = [plt.cm.Set1(i) for i in range(numclass)]    \n",
    "    plt.rc('axes', prop_cycle=(cycler('color', colors)))\n",
    "    f, ax = plt.subplots(nvars, nvars, sharex='col', sharey='row')\n",
    "    \n",
    "    for i,k1 in enumerate(key_list):\n",
    "        ax[nvars-1,i].set_xlabel(key_list[i])\n",
    "        for j,k2 in enumerate(key_list[::-1]):\n",
    "            ax[j, i].plot(plot_d[k1], plot_d[k2])\n",
    "            ax[j,0].set_ylabel(key_list[::-1][j])\n",
    "    \n",
    "    f.legend([l for l in ax[0,0].lines],\n",
    "             [\"Class {0} \".format(i+1) for i in range(numclass)],\n",
    "              loc='upper right', fontsize=12)\n",
    "    f.suptitle(\"Fixed strata weight, all sample weights\")\n",
    "    #plt.tight_layout()\n",
    "    \n",
    "    return results_dict\n",
    "            \n",
    "intplot = interactive(interact_plot, numclass=numclass, total_area=total_area, sample_size=sample_size,\n",
    "                      str_w_dist=str_w_dist, samp_w_dist=samp_w_dist, str_w_val=str_w_val, continuous_update=False)\n",
    "controlbox = VBox([VBox(intplot.children[0:6]), weights_text])\n",
    "plotbox = VBox([intplot.children[-1]], layout=Layout(width='90%'))\n",
    "iplot = HBox([plotbox, controlbox])\n",
    "display(iplot)"
   ]
  },
  {
   "cell_type": "code",
   "execution_count": null,
   "metadata": {
    "collapsed": true,
    "slideshow": {
     "slide_type": "skip"
    }
   },
   "outputs": [],
   "source": [
    "# Temporary fix to get any confusion matrix we want.\n",
    "#create_dataframe(intplot.result[list(intplot.result.keys())[6]], ['conf_mat_prop', 'ni', 'str_wh'])"
   ]
  },
  {
   "cell_type": "code",
   "execution_count": 8,
   "metadata": {
    "slideshow": {
     "slide_type": "skip"
    }
   },
   "outputs": [
    {
     "name": "stderr",
     "output_type": "stream",
     "text": [
      "/home/paulo/miniconda3/envs/plants/lib/python3.5/site-packages/ipykernel_launcher.py:101: RuntimeWarning:\n",
      "\n",
      "divide by zero encountered in true_divide\n",
      "\n",
      "/home/paulo/miniconda3/envs/plants/lib/python3.5/site-packages/ipykernel_launcher.py:101: RuntimeWarning:\n",
      "\n",
      "invalid value encountered in true_divide\n",
      "\n"
     ]
    },
    {
     "data": {
      "application/javascript": [
       "/* Put everything inside the global mpl namespace */\n",
       "window.mpl = {};\n",
       "\n",
       "\n",
       "mpl.get_websocket_type = function() {\n",
       "    if (typeof(WebSocket) !== 'undefined') {\n",
       "        return WebSocket;\n",
       "    } else if (typeof(MozWebSocket) !== 'undefined') {\n",
       "        return MozWebSocket;\n",
       "    } else {\n",
       "        alert('Your browser does not have WebSocket support.' +\n",
       "              'Please try Chrome, Safari or Firefox ≥ 6. ' +\n",
       "              'Firefox 4 and 5 are also supported but you ' +\n",
       "              'have to enable WebSockets in about:config.');\n",
       "    };\n",
       "}\n",
       "\n",
       "mpl.figure = function(figure_id, websocket, ondownload, parent_element) {\n",
       "    this.id = figure_id;\n",
       "\n",
       "    this.ws = websocket;\n",
       "\n",
       "    this.supports_binary = (this.ws.binaryType != undefined);\n",
       "\n",
       "    if (!this.supports_binary) {\n",
       "        var warnings = document.getElementById(\"mpl-warnings\");\n",
       "        if (warnings) {\n",
       "            warnings.style.display = 'block';\n",
       "            warnings.textContent = (\n",
       "                \"This browser does not support binary websocket messages. \" +\n",
       "                    \"Performance may be slow.\");\n",
       "        }\n",
       "    }\n",
       "\n",
       "    this.imageObj = new Image();\n",
       "\n",
       "    this.context = undefined;\n",
       "    this.message = undefined;\n",
       "    this.canvas = undefined;\n",
       "    this.rubberband_canvas = undefined;\n",
       "    this.rubberband_context = undefined;\n",
       "    this.format_dropdown = undefined;\n",
       "\n",
       "    this.image_mode = 'full';\n",
       "\n",
       "    this.root = $('<div/>');\n",
       "    this._root_extra_style(this.root)\n",
       "    this.root.attr('style', 'display: inline-block');\n",
       "\n",
       "    $(parent_element).append(this.root);\n",
       "\n",
       "    this._init_header(this);\n",
       "    this._init_canvas(this);\n",
       "    this._init_toolbar(this);\n",
       "\n",
       "    var fig = this;\n",
       "\n",
       "    this.waiting = false;\n",
       "\n",
       "    this.ws.onopen =  function () {\n",
       "            fig.send_message(\"supports_binary\", {value: fig.supports_binary});\n",
       "            fig.send_message(\"send_image_mode\", {});\n",
       "            if (mpl.ratio != 1) {\n",
       "                fig.send_message(\"set_dpi_ratio\", {'dpi_ratio': mpl.ratio});\n",
       "            }\n",
       "            fig.send_message(\"refresh\", {});\n",
       "        }\n",
       "\n",
       "    this.imageObj.onload = function() {\n",
       "            if (fig.image_mode == 'full') {\n",
       "                // Full images could contain transparency (where diff images\n",
       "                // almost always do), so we need to clear the canvas so that\n",
       "                // there is no ghosting.\n",
       "                fig.context.clearRect(0, 0, fig.canvas.width, fig.canvas.height);\n",
       "            }\n",
       "            fig.context.drawImage(fig.imageObj, 0, 0);\n",
       "        };\n",
       "\n",
       "    this.imageObj.onunload = function() {\n",
       "        this.ws.close();\n",
       "    }\n",
       "\n",
       "    this.ws.onmessage = this._make_on_message_function(this);\n",
       "\n",
       "    this.ondownload = ondownload;\n",
       "}\n",
       "\n",
       "mpl.figure.prototype._init_header = function() {\n",
       "    var titlebar = $(\n",
       "        '<div class=\"ui-dialog-titlebar ui-widget-header ui-corner-all ' +\n",
       "        'ui-helper-clearfix\"/>');\n",
       "    var titletext = $(\n",
       "        '<div class=\"ui-dialog-title\" style=\"width: 100%; ' +\n",
       "        'text-align: center; padding: 3px;\"/>');\n",
       "    titlebar.append(titletext)\n",
       "    this.root.append(titlebar);\n",
       "    this.header = titletext[0];\n",
       "}\n",
       "\n",
       "\n",
       "\n",
       "mpl.figure.prototype._canvas_extra_style = function(canvas_div) {\n",
       "\n",
       "}\n",
       "\n",
       "\n",
       "mpl.figure.prototype._root_extra_style = function(canvas_div) {\n",
       "\n",
       "}\n",
       "\n",
       "mpl.figure.prototype._init_canvas = function() {\n",
       "    var fig = this;\n",
       "\n",
       "    var canvas_div = $('<div/>');\n",
       "\n",
       "    canvas_div.attr('style', 'position: relative; clear: both; outline: 0');\n",
       "\n",
       "    function canvas_keyboard_event(event) {\n",
       "        return fig.key_event(event, event['data']);\n",
       "    }\n",
       "\n",
       "    canvas_div.keydown('key_press', canvas_keyboard_event);\n",
       "    canvas_div.keyup('key_release', canvas_keyboard_event);\n",
       "    this.canvas_div = canvas_div\n",
       "    this._canvas_extra_style(canvas_div)\n",
       "    this.root.append(canvas_div);\n",
       "\n",
       "    var canvas = $('<canvas/>');\n",
       "    canvas.addClass('mpl-canvas');\n",
       "    canvas.attr('style', \"left: 0; top: 0; z-index: 0; outline: 0\")\n",
       "\n",
       "    this.canvas = canvas[0];\n",
       "    this.context = canvas[0].getContext(\"2d\");\n",
       "\n",
       "    var backingStore = this.context.backingStorePixelRatio ||\n",
       "\tthis.context.webkitBackingStorePixelRatio ||\n",
       "\tthis.context.mozBackingStorePixelRatio ||\n",
       "\tthis.context.msBackingStorePixelRatio ||\n",
       "\tthis.context.oBackingStorePixelRatio ||\n",
       "\tthis.context.backingStorePixelRatio || 1;\n",
       "\n",
       "    mpl.ratio = (window.devicePixelRatio || 1) / backingStore;\n",
       "\n",
       "    var rubberband = $('<canvas/>');\n",
       "    rubberband.attr('style', \"position: absolute; left: 0; top: 0; z-index: 1;\")\n",
       "\n",
       "    var pass_mouse_events = true;\n",
       "\n",
       "    canvas_div.resizable({\n",
       "        start: function(event, ui) {\n",
       "            pass_mouse_events = false;\n",
       "        },\n",
       "        resize: function(event, ui) {\n",
       "            fig.request_resize(ui.size.width, ui.size.height);\n",
       "        },\n",
       "        stop: function(event, ui) {\n",
       "            pass_mouse_events = true;\n",
       "            fig.request_resize(ui.size.width, ui.size.height);\n",
       "        },\n",
       "    });\n",
       "\n",
       "    function mouse_event_fn(event) {\n",
       "        if (pass_mouse_events)\n",
       "            return fig.mouse_event(event, event['data']);\n",
       "    }\n",
       "\n",
       "    rubberband.mousedown('button_press', mouse_event_fn);\n",
       "    rubberband.mouseup('button_release', mouse_event_fn);\n",
       "    // Throttle sequential mouse events to 1 every 20ms.\n",
       "    rubberband.mousemove('motion_notify', mouse_event_fn);\n",
       "\n",
       "    rubberband.mouseenter('figure_enter', mouse_event_fn);\n",
       "    rubberband.mouseleave('figure_leave', mouse_event_fn);\n",
       "\n",
       "    canvas_div.on(\"wheel\", function (event) {\n",
       "        event = event.originalEvent;\n",
       "        event['data'] = 'scroll'\n",
       "        if (event.deltaY < 0) {\n",
       "            event.step = 1;\n",
       "        } else {\n",
       "            event.step = -1;\n",
       "        }\n",
       "        mouse_event_fn(event);\n",
       "    });\n",
       "\n",
       "    canvas_div.append(canvas);\n",
       "    canvas_div.append(rubberband);\n",
       "\n",
       "    this.rubberband = rubberband;\n",
       "    this.rubberband_canvas = rubberband[0];\n",
       "    this.rubberband_context = rubberband[0].getContext(\"2d\");\n",
       "    this.rubberband_context.strokeStyle = \"#000000\";\n",
       "\n",
       "    this._resize_canvas = function(width, height) {\n",
       "        // Keep the size of the canvas, canvas container, and rubber band\n",
       "        // canvas in synch.\n",
       "        canvas_div.css('width', width)\n",
       "        canvas_div.css('height', height)\n",
       "\n",
       "        canvas.attr('width', width * mpl.ratio);\n",
       "        canvas.attr('height', height * mpl.ratio);\n",
       "        canvas.attr('style', 'width: ' + width + 'px; height: ' + height + 'px;');\n",
       "\n",
       "        rubberband.attr('width', width);\n",
       "        rubberband.attr('height', height);\n",
       "    }\n",
       "\n",
       "    // Set the figure to an initial 600x600px, this will subsequently be updated\n",
       "    // upon first draw.\n",
       "    this._resize_canvas(600, 600);\n",
       "\n",
       "    // Disable right mouse context menu.\n",
       "    $(this.rubberband_canvas).bind(\"contextmenu\",function(e){\n",
       "        return false;\n",
       "    });\n",
       "\n",
       "    function set_focus () {\n",
       "        canvas.focus();\n",
       "        canvas_div.focus();\n",
       "    }\n",
       "\n",
       "    window.setTimeout(set_focus, 100);\n",
       "}\n",
       "\n",
       "mpl.figure.prototype._init_toolbar = function() {\n",
       "    var fig = this;\n",
       "\n",
       "    var nav_element = $('<div/>')\n",
       "    nav_element.attr('style', 'width: 100%');\n",
       "    this.root.append(nav_element);\n",
       "\n",
       "    // Define a callback function for later on.\n",
       "    function toolbar_event(event) {\n",
       "        return fig.toolbar_button_onclick(event['data']);\n",
       "    }\n",
       "    function toolbar_mouse_event(event) {\n",
       "        return fig.toolbar_button_onmouseover(event['data']);\n",
       "    }\n",
       "\n",
       "    for(var toolbar_ind in mpl.toolbar_items) {\n",
       "        var name = mpl.toolbar_items[toolbar_ind][0];\n",
       "        var tooltip = mpl.toolbar_items[toolbar_ind][1];\n",
       "        var image = mpl.toolbar_items[toolbar_ind][2];\n",
       "        var method_name = mpl.toolbar_items[toolbar_ind][3];\n",
       "\n",
       "        if (!name) {\n",
       "            // put a spacer in here.\n",
       "            continue;\n",
       "        }\n",
       "        var button = $('<button/>');\n",
       "        button.addClass('ui-button ui-widget ui-state-default ui-corner-all ' +\n",
       "                        'ui-button-icon-only');\n",
       "        button.attr('role', 'button');\n",
       "        button.attr('aria-disabled', 'false');\n",
       "        button.click(method_name, toolbar_event);\n",
       "        button.mouseover(tooltip, toolbar_mouse_event);\n",
       "\n",
       "        var icon_img = $('<span/>');\n",
       "        icon_img.addClass('ui-button-icon-primary ui-icon');\n",
       "        icon_img.addClass(image);\n",
       "        icon_img.addClass('ui-corner-all');\n",
       "\n",
       "        var tooltip_span = $('<span/>');\n",
       "        tooltip_span.addClass('ui-button-text');\n",
       "        tooltip_span.html(tooltip);\n",
       "\n",
       "        button.append(icon_img);\n",
       "        button.append(tooltip_span);\n",
       "\n",
       "        nav_element.append(button);\n",
       "    }\n",
       "\n",
       "    var fmt_picker_span = $('<span/>');\n",
       "\n",
       "    var fmt_picker = $('<select/>');\n",
       "    fmt_picker.addClass('mpl-toolbar-option ui-widget ui-widget-content');\n",
       "    fmt_picker_span.append(fmt_picker);\n",
       "    nav_element.append(fmt_picker_span);\n",
       "    this.format_dropdown = fmt_picker[0];\n",
       "\n",
       "    for (var ind in mpl.extensions) {\n",
       "        var fmt = mpl.extensions[ind];\n",
       "        var option = $(\n",
       "            '<option/>', {selected: fmt === mpl.default_extension}).html(fmt);\n",
       "        fmt_picker.append(option)\n",
       "    }\n",
       "\n",
       "    // Add hover states to the ui-buttons\n",
       "    $( \".ui-button\" ).hover(\n",
       "        function() { $(this).addClass(\"ui-state-hover\");},\n",
       "        function() { $(this).removeClass(\"ui-state-hover\");}\n",
       "    );\n",
       "\n",
       "    var status_bar = $('<span class=\"mpl-message\"/>');\n",
       "    nav_element.append(status_bar);\n",
       "    this.message = status_bar[0];\n",
       "}\n",
       "\n",
       "mpl.figure.prototype.request_resize = function(x_pixels, y_pixels) {\n",
       "    // Request matplotlib to resize the figure. Matplotlib will then trigger a resize in the client,\n",
       "    // which will in turn request a refresh of the image.\n",
       "    this.send_message('resize', {'width': x_pixels, 'height': y_pixels});\n",
       "}\n",
       "\n",
       "mpl.figure.prototype.send_message = function(type, properties) {\n",
       "    properties['type'] = type;\n",
       "    properties['figure_id'] = this.id;\n",
       "    this.ws.send(JSON.stringify(properties));\n",
       "}\n",
       "\n",
       "mpl.figure.prototype.send_draw_message = function() {\n",
       "    if (!this.waiting) {\n",
       "        this.waiting = true;\n",
       "        this.ws.send(JSON.stringify({type: \"draw\", figure_id: this.id}));\n",
       "    }\n",
       "}\n",
       "\n",
       "\n",
       "mpl.figure.prototype.handle_save = function(fig, msg) {\n",
       "    var format_dropdown = fig.format_dropdown;\n",
       "    var format = format_dropdown.options[format_dropdown.selectedIndex].value;\n",
       "    fig.ondownload(fig, format);\n",
       "}\n",
       "\n",
       "\n",
       "mpl.figure.prototype.handle_resize = function(fig, msg) {\n",
       "    var size = msg['size'];\n",
       "    if (size[0] != fig.canvas.width || size[1] != fig.canvas.height) {\n",
       "        fig._resize_canvas(size[0], size[1]);\n",
       "        fig.send_message(\"refresh\", {});\n",
       "    };\n",
       "}\n",
       "\n",
       "mpl.figure.prototype.handle_rubberband = function(fig, msg) {\n",
       "    var x0 = msg['x0'] / mpl.ratio;\n",
       "    var y0 = (fig.canvas.height - msg['y0']) / mpl.ratio;\n",
       "    var x1 = msg['x1'] / mpl.ratio;\n",
       "    var y1 = (fig.canvas.height - msg['y1']) / mpl.ratio;\n",
       "    x0 = Math.floor(x0) + 0.5;\n",
       "    y0 = Math.floor(y0) + 0.5;\n",
       "    x1 = Math.floor(x1) + 0.5;\n",
       "    y1 = Math.floor(y1) + 0.5;\n",
       "    var min_x = Math.min(x0, x1);\n",
       "    var min_y = Math.min(y0, y1);\n",
       "    var width = Math.abs(x1 - x0);\n",
       "    var height = Math.abs(y1 - y0);\n",
       "\n",
       "    fig.rubberband_context.clearRect(\n",
       "        0, 0, fig.canvas.width, fig.canvas.height);\n",
       "\n",
       "    fig.rubberband_context.strokeRect(min_x, min_y, width, height);\n",
       "}\n",
       "\n",
       "mpl.figure.prototype.handle_figure_label = function(fig, msg) {\n",
       "    // Updates the figure title.\n",
       "    fig.header.textContent = msg['label'];\n",
       "}\n",
       "\n",
       "mpl.figure.prototype.handle_cursor = function(fig, msg) {\n",
       "    var cursor = msg['cursor'];\n",
       "    switch(cursor)\n",
       "    {\n",
       "    case 0:\n",
       "        cursor = 'pointer';\n",
       "        break;\n",
       "    case 1:\n",
       "        cursor = 'default';\n",
       "        break;\n",
       "    case 2:\n",
       "        cursor = 'crosshair';\n",
       "        break;\n",
       "    case 3:\n",
       "        cursor = 'move';\n",
       "        break;\n",
       "    }\n",
       "    fig.rubberband_canvas.style.cursor = cursor;\n",
       "}\n",
       "\n",
       "mpl.figure.prototype.handle_message = function(fig, msg) {\n",
       "    fig.message.textContent = msg['message'];\n",
       "}\n",
       "\n",
       "mpl.figure.prototype.handle_draw = function(fig, msg) {\n",
       "    // Request the server to send over a new figure.\n",
       "    fig.send_draw_message();\n",
       "}\n",
       "\n",
       "mpl.figure.prototype.handle_image_mode = function(fig, msg) {\n",
       "    fig.image_mode = msg['mode'];\n",
       "}\n",
       "\n",
       "mpl.figure.prototype.updated_canvas_event = function() {\n",
       "    // Called whenever the canvas gets updated.\n",
       "    this.send_message(\"ack\", {});\n",
       "}\n",
       "\n",
       "// A function to construct a web socket function for onmessage handling.\n",
       "// Called in the figure constructor.\n",
       "mpl.figure.prototype._make_on_message_function = function(fig) {\n",
       "    return function socket_on_message(evt) {\n",
       "        if (evt.data instanceof Blob) {\n",
       "            /* FIXME: We get \"Resource interpreted as Image but\n",
       "             * transferred with MIME type text/plain:\" errors on\n",
       "             * Chrome.  But how to set the MIME type?  It doesn't seem\n",
       "             * to be part of the websocket stream */\n",
       "            evt.data.type = \"image/png\";\n",
       "\n",
       "            /* Free the memory for the previous frames */\n",
       "            if (fig.imageObj.src) {\n",
       "                (window.URL || window.webkitURL).revokeObjectURL(\n",
       "                    fig.imageObj.src);\n",
       "            }\n",
       "\n",
       "            fig.imageObj.src = (window.URL || window.webkitURL).createObjectURL(\n",
       "                evt.data);\n",
       "            fig.updated_canvas_event();\n",
       "            fig.waiting = false;\n",
       "            return;\n",
       "        }\n",
       "        else if (typeof evt.data === 'string' && evt.data.slice(0, 21) == \"data:image/png;base64\") {\n",
       "            fig.imageObj.src = evt.data;\n",
       "            fig.updated_canvas_event();\n",
       "            fig.waiting = false;\n",
       "            return;\n",
       "        }\n",
       "\n",
       "        var msg = JSON.parse(evt.data);\n",
       "        var msg_type = msg['type'];\n",
       "\n",
       "        // Call the  \"handle_{type}\" callback, which takes\n",
       "        // the figure and JSON message as its only arguments.\n",
       "        try {\n",
       "            var callback = fig[\"handle_\" + msg_type];\n",
       "        } catch (e) {\n",
       "            console.log(\"No handler for the '\" + msg_type + \"' message type: \", msg);\n",
       "            return;\n",
       "        }\n",
       "\n",
       "        if (callback) {\n",
       "            try {\n",
       "                // console.log(\"Handling '\" + msg_type + \"' message: \", msg);\n",
       "                callback(fig, msg);\n",
       "            } catch (e) {\n",
       "                console.log(\"Exception inside the 'handler_\" + msg_type + \"' callback:\", e, e.stack, msg);\n",
       "            }\n",
       "        }\n",
       "    };\n",
       "}\n",
       "\n",
       "// from http://stackoverflow.com/questions/1114465/getting-mouse-location-in-canvas\n",
       "mpl.findpos = function(e) {\n",
       "    //this section is from http://www.quirksmode.org/js/events_properties.html\n",
       "    var targ;\n",
       "    if (!e)\n",
       "        e = window.event;\n",
       "    if (e.target)\n",
       "        targ = e.target;\n",
       "    else if (e.srcElement)\n",
       "        targ = e.srcElement;\n",
       "    if (targ.nodeType == 3) // defeat Safari bug\n",
       "        targ = targ.parentNode;\n",
       "\n",
       "    // jQuery normalizes the pageX and pageY\n",
       "    // pageX,Y are the mouse positions relative to the document\n",
       "    // offset() returns the position of the element relative to the document\n",
       "    var x = e.pageX - $(targ).offset().left;\n",
       "    var y = e.pageY - $(targ).offset().top;\n",
       "\n",
       "    return {\"x\": x, \"y\": y};\n",
       "};\n",
       "\n",
       "/*\n",
       " * return a copy of an object with only non-object keys\n",
       " * we need this to avoid circular references\n",
       " * http://stackoverflow.com/a/24161582/3208463\n",
       " */\n",
       "function simpleKeys (original) {\n",
       "  return Object.keys(original).reduce(function (obj, key) {\n",
       "    if (typeof original[key] !== 'object')\n",
       "        obj[key] = original[key]\n",
       "    return obj;\n",
       "  }, {});\n",
       "}\n",
       "\n",
       "mpl.figure.prototype.mouse_event = function(event, name) {\n",
       "    var canvas_pos = mpl.findpos(event)\n",
       "\n",
       "    if (name === 'button_press')\n",
       "    {\n",
       "        this.canvas.focus();\n",
       "        this.canvas_div.focus();\n",
       "    }\n",
       "\n",
       "    var x = canvas_pos.x * mpl.ratio;\n",
       "    var y = canvas_pos.y * mpl.ratio;\n",
       "\n",
       "    this.send_message(name, {x: x, y: y, button: event.button,\n",
       "                             step: event.step,\n",
       "                             guiEvent: simpleKeys(event)});\n",
       "\n",
       "    /* This prevents the web browser from automatically changing to\n",
       "     * the text insertion cursor when the button is pressed.  We want\n",
       "     * to control all of the cursor setting manually through the\n",
       "     * 'cursor' event from matplotlib */\n",
       "    event.preventDefault();\n",
       "    return false;\n",
       "}\n",
       "\n",
       "mpl.figure.prototype._key_event_extra = function(event, name) {\n",
       "    // Handle any extra behaviour associated with a key event\n",
       "}\n",
       "\n",
       "mpl.figure.prototype.key_event = function(event, name) {\n",
       "\n",
       "    // Prevent repeat events\n",
       "    if (name == 'key_press')\n",
       "    {\n",
       "        if (event.which === this._key)\n",
       "            return;\n",
       "        else\n",
       "            this._key = event.which;\n",
       "    }\n",
       "    if (name == 'key_release')\n",
       "        this._key = null;\n",
       "\n",
       "    var value = '';\n",
       "    if (event.ctrlKey && event.which != 17)\n",
       "        value += \"ctrl+\";\n",
       "    if (event.altKey && event.which != 18)\n",
       "        value += \"alt+\";\n",
       "    if (event.shiftKey && event.which != 16)\n",
       "        value += \"shift+\";\n",
       "\n",
       "    value += 'k';\n",
       "    value += event.which.toString();\n",
       "\n",
       "    this._key_event_extra(event, name);\n",
       "\n",
       "    this.send_message(name, {key: value,\n",
       "                             guiEvent: simpleKeys(event)});\n",
       "    return false;\n",
       "}\n",
       "\n",
       "mpl.figure.prototype.toolbar_button_onclick = function(name) {\n",
       "    if (name == 'download') {\n",
       "        this.handle_save(this, null);\n",
       "    } else {\n",
       "        this.send_message(\"toolbar_button\", {name: name});\n",
       "    }\n",
       "};\n",
       "\n",
       "mpl.figure.prototype.toolbar_button_onmouseover = function(tooltip) {\n",
       "    this.message.textContent = tooltip;\n",
       "};\n",
       "mpl.toolbar_items = [[\"Home\", \"Reset original view\", \"fa fa-home icon-home\", \"home\"], [\"Back\", \"Back to  previous view\", \"fa fa-arrow-left icon-arrow-left\", \"back\"], [\"Forward\", \"Forward to next view\", \"fa fa-arrow-right icon-arrow-right\", \"forward\"], [\"\", \"\", \"\", \"\"], [\"Pan\", \"Pan axes with left mouse, zoom with right\", \"fa fa-arrows icon-move\", \"pan\"], [\"Zoom\", \"Zoom to rectangle\", \"fa fa-square-o icon-check-empty\", \"zoom\"], [\"\", \"\", \"\", \"\"], [\"Download\", \"Download plot\", \"fa fa-floppy-o icon-save\", \"download\"]];\n",
       "\n",
       "mpl.extensions = [\"eps\", \"pdf\", \"png\", \"ps\", \"raw\", \"svg\"];\n",
       "\n",
       "mpl.default_extension = \"png\";var comm_websocket_adapter = function(comm) {\n",
       "    // Create a \"websocket\"-like object which calls the given IPython comm\n",
       "    // object with the appropriate methods. Currently this is a non binary\n",
       "    // socket, so there is still some room for performance tuning.\n",
       "    var ws = {};\n",
       "\n",
       "    ws.close = function() {\n",
       "        comm.close()\n",
       "    };\n",
       "    ws.send = function(m) {\n",
       "        //console.log('sending', m);\n",
       "        comm.send(m);\n",
       "    };\n",
       "    // Register the callback with on_msg.\n",
       "    comm.on_msg(function(msg) {\n",
       "        //console.log('receiving', msg['content']['data'], msg);\n",
       "        // Pass the mpl event to the overriden (by mpl) onmessage function.\n",
       "        ws.onmessage(msg['content']['data'])\n",
       "    });\n",
       "    return ws;\n",
       "}\n",
       "\n",
       "mpl.mpl_figure_comm = function(comm, msg) {\n",
       "    // This is the function which gets called when the mpl process\n",
       "    // starts-up an IPython Comm through the \"matplotlib\" channel.\n",
       "\n",
       "    var id = msg.content.data.id;\n",
       "    // Get hold of the div created by the display call when the Comm\n",
       "    // socket was opened in Python.\n",
       "    var element = $(\"#\" + id);\n",
       "    var ws_proxy = comm_websocket_adapter(comm)\n",
       "\n",
       "    function ondownload(figure, format) {\n",
       "        window.open(figure.imageObj.src);\n",
       "    }\n",
       "\n",
       "    var fig = new mpl.figure(id, ws_proxy,\n",
       "                           ondownload,\n",
       "                           element.get(0));\n",
       "\n",
       "    // Call onopen now - mpl needs it, as it is assuming we've passed it a real\n",
       "    // web socket which is closed, not our websocket->open comm proxy.\n",
       "    ws_proxy.onopen();\n",
       "\n",
       "    fig.parent_element = element.get(0);\n",
       "    fig.cell_info = mpl.find_output_cell(\"<div id='\" + id + \"'></div>\");\n",
       "    if (!fig.cell_info) {\n",
       "        console.error(\"Failed to find cell for figure\", id, fig);\n",
       "        return;\n",
       "    }\n",
       "\n",
       "    var output_index = fig.cell_info[2]\n",
       "    var cell = fig.cell_info[0];\n",
       "\n",
       "};\n",
       "\n",
       "mpl.figure.prototype.handle_close = function(fig, msg) {\n",
       "    var width = fig.canvas.width/mpl.ratio\n",
       "    fig.root.unbind('remove')\n",
       "\n",
       "    // Update the output cell to use the data from the current canvas.\n",
       "    fig.push_to_output();\n",
       "    var dataURL = fig.canvas.toDataURL();\n",
       "    // Re-enable the keyboard manager in IPython - without this line, in FF,\n",
       "    // the notebook keyboard shortcuts fail.\n",
       "    IPython.keyboard_manager.enable()\n",
       "    $(fig.parent_element).html('<img src=\"' + dataURL + '\" width=\"' + width + '\">');\n",
       "    fig.close_ws(fig, msg);\n",
       "}\n",
       "\n",
       "mpl.figure.prototype.close_ws = function(fig, msg){\n",
       "    fig.send_message('closing', msg);\n",
       "    // fig.ws.close()\n",
       "}\n",
       "\n",
       "mpl.figure.prototype.push_to_output = function(remove_interactive) {\n",
       "    // Turn the data on the canvas into data in the output cell.\n",
       "    var width = this.canvas.width/mpl.ratio\n",
       "    var dataURL = this.canvas.toDataURL();\n",
       "    this.cell_info[1]['text/html'] = '<img src=\"' + dataURL + '\" width=\"' + width + '\">';\n",
       "}\n",
       "\n",
       "mpl.figure.prototype.updated_canvas_event = function() {\n",
       "    // Tell IPython that the notebook contents must change.\n",
       "    IPython.notebook.set_dirty(true);\n",
       "    this.send_message(\"ack\", {});\n",
       "    var fig = this;\n",
       "    // Wait a second, then push the new image to the DOM so\n",
       "    // that it is saved nicely (might be nice to debounce this).\n",
       "    setTimeout(function () { fig.push_to_output() }, 1000);\n",
       "}\n",
       "\n",
       "mpl.figure.prototype._init_toolbar = function() {\n",
       "    var fig = this;\n",
       "\n",
       "    var nav_element = $('<div/>')\n",
       "    nav_element.attr('style', 'width: 100%');\n",
       "    this.root.append(nav_element);\n",
       "\n",
       "    // Define a callback function for later on.\n",
       "    function toolbar_event(event) {\n",
       "        return fig.toolbar_button_onclick(event['data']);\n",
       "    }\n",
       "    function toolbar_mouse_event(event) {\n",
       "        return fig.toolbar_button_onmouseover(event['data']);\n",
       "    }\n",
       "\n",
       "    for(var toolbar_ind in mpl.toolbar_items){\n",
       "        var name = mpl.toolbar_items[toolbar_ind][0];\n",
       "        var tooltip = mpl.toolbar_items[toolbar_ind][1];\n",
       "        var image = mpl.toolbar_items[toolbar_ind][2];\n",
       "        var method_name = mpl.toolbar_items[toolbar_ind][3];\n",
       "\n",
       "        if (!name) { continue; };\n",
       "\n",
       "        var button = $('<button class=\"btn btn-default\" href=\"#\" title=\"' + name + '\"><i class=\"fa ' + image + ' fa-lg\"></i></button>');\n",
       "        button.click(method_name, toolbar_event);\n",
       "        button.mouseover(tooltip, toolbar_mouse_event);\n",
       "        nav_element.append(button);\n",
       "    }\n",
       "\n",
       "    // Add the status bar.\n",
       "    var status_bar = $('<span class=\"mpl-message\" style=\"text-align:right; float: right;\"/>');\n",
       "    nav_element.append(status_bar);\n",
       "    this.message = status_bar[0];\n",
       "\n",
       "    // Add the close button to the window.\n",
       "    var buttongrp = $('<div class=\"btn-group inline pull-right\"></div>');\n",
       "    var button = $('<button class=\"btn btn-mini btn-primary\" href=\"#\" title=\"Stop Interaction\"><i class=\"fa fa-power-off icon-remove icon-large\"></i></button>');\n",
       "    button.click(function (evt) { fig.handle_close(fig, {}); } );\n",
       "    button.mouseover('Stop Interaction', toolbar_mouse_event);\n",
       "    buttongrp.append(button);\n",
       "    var titlebar = this.root.find($('.ui-dialog-titlebar'));\n",
       "    titlebar.prepend(buttongrp);\n",
       "}\n",
       "\n",
       "mpl.figure.prototype._root_extra_style = function(el){\n",
       "    var fig = this\n",
       "    el.on(\"remove\", function(){\n",
       "\tfig.close_ws(fig, {});\n",
       "    });\n",
       "}\n",
       "\n",
       "mpl.figure.prototype._canvas_extra_style = function(el){\n",
       "    // this is important to make the div 'focusable\n",
       "    el.attr('tabindex', 0)\n",
       "    // reach out to IPython and tell the keyboard manager to turn it's self\n",
       "    // off when our div gets focus\n",
       "\n",
       "    // location in version 3\n",
       "    if (IPython.notebook.keyboard_manager) {\n",
       "        IPython.notebook.keyboard_manager.register_events(el);\n",
       "    }\n",
       "    else {\n",
       "        // location in version 2\n",
       "        IPython.keyboard_manager.register_events(el);\n",
       "    }\n",
       "\n",
       "}\n",
       "\n",
       "mpl.figure.prototype._key_event_extra = function(event, name) {\n",
       "    var manager = IPython.notebook.keyboard_manager;\n",
       "    if (!manager)\n",
       "        manager = IPython.keyboard_manager;\n",
       "\n",
       "    // Check for shift+enter\n",
       "    if (event.shiftKey && event.which == 13) {\n",
       "        this.canvas_div.blur();\n",
       "        // select the cell after this one\n",
       "        var index = IPython.notebook.find_cell_index(this.cell_info[0]);\n",
       "        IPython.notebook.select(index + 1);\n",
       "    }\n",
       "}\n",
       "\n",
       "mpl.figure.prototype.handle_save = function(fig, msg) {\n",
       "    fig.ondownload(fig, null);\n",
       "}\n",
       "\n",
       "\n",
       "mpl.find_output_cell = function(html_output) {\n",
       "    // Return the cell and output element which can be found *uniquely* in the notebook.\n",
       "    // Note - this is a bit hacky, but it is done because the \"notebook_saving.Notebook\"\n",
       "    // IPython event is triggered only after the cells have been serialised, which for\n",
       "    // our purposes (turning an active figure into a static one), is too late.\n",
       "    var cells = IPython.notebook.get_cells();\n",
       "    var ncells = cells.length;\n",
       "    for (var i=0; i<ncells; i++) {\n",
       "        var cell = cells[i];\n",
       "        if (cell.cell_type === 'code'){\n",
       "            for (var j=0; j<cell.output_area.outputs.length; j++) {\n",
       "                var data = cell.output_area.outputs[j];\n",
       "                if (data.data) {\n",
       "                    // IPython >= 3 moved mimebundle to data attribute of output\n",
       "                    data = data.data;\n",
       "                }\n",
       "                if (data['text/html'] == html_output) {\n",
       "                    return [cell, data, j];\n",
       "                }\n",
       "            }\n",
       "        }\n",
       "    }\n",
       "}\n",
       "\n",
       "// Register the function which deals with the matplotlib target/channel.\n",
       "// The kernel may be null if the page has been refreshed.\n",
       "if (IPython.notebook.kernel != null) {\n",
       "    IPython.notebook.kernel.comm_manager.register_target('matplotlib', mpl.mpl_figure_comm);\n",
       "}\n"
      ],
      "text/plain": [
       "<IPython.core.display.Javascript object>"
      ]
     },
     "metadata": {},
     "output_type": "display_data"
    },
    {
     "data": {
      "text/html": [
       "<img src=\"data:image/png;base64,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\" width=\"800\">"
      ],
      "text/plain": [
       "<IPython.core.display.HTML object>"
      ]
     },
     "metadata": {},
     "output_type": "display_data"
    }
   ],
   "source": [
    "# OLD WAY, KEEP FOR TESTING\n",
    "# Define global variables\n",
    "total_area = 100000\n",
    "sample_size = 1000\n",
    "df_key_list = ['conf_mat_prop', 'ni', 'str_wh', 'prod_acc', 'area_ha', 'area_ci','margin_error']\n",
    "\n",
    "results_dict = OrderedDict()\n",
    "\n",
    "for i in np.linspace(0.001, 1, 40):\n",
    "    results_dict[i] = run_experiment(4, 'linear', 'geometric', i, 0.001, sample_size,total_area)\n",
    "\n",
    "prod_accs = np.vstack([results_dict.get(x)['prod_acc'] for x in results_dict.keys()])\n",
    "me = np.vstack([results_dict.get(x)['margin_error'] for x in results_dict.keys()])\n",
    "ci_width = np.vstack([results_dict.get(x)['area_ci'] for x in results_dict.keys()])\n",
    "samp_w = np.vstack([results_dict.get(x)['samp_wh'] for x in results_dict.keys()])\n",
    "str_w = np.vstack([results_dict.get(x)['str_wh'] for x in results_dict.keys()])\n",
    "\n",
    "def plot_multi(varlist, varnames, nclass):\n",
    "    \"\"\"Plots all vars in a list against each other. Rows are assumed to be the\n",
    "    observations and columns are different classes. \n",
    "    Requires a list of vars, list of names for those vars, and number of classes.\n",
    "    \"\"\"\n",
    "    \n",
    "    nvars = len(varlist)\n",
    "    matplotlib.rcParams['figure.figsize'] = (8.0, 8.0)\n",
    "    colors = [plt.cm.Set1(i) for i in range(nclass)]    \n",
    "    plt.rc('axes', prop_cycle=(cycler('color', colors)))\n",
    "    f, ax = plt.subplots(nvars, nvars, sharex='col', sharey='row')\n",
    "    \n",
    "    for i,v1 in enumerate(varlist):\n",
    "        ax[nvars-1,i].set_xlabel(varnames[i])\n",
    "        for j,v2 in enumerate(varlist):\n",
    "            ax[j, i].plot(v1,v2)\n",
    "            ax[j,0].set_ylabel(varnames[j])\n",
    "    \n",
    "    #print(ax[0,0].lines)\n",
    "    f.legend([l for l in ax[0,0].lines], [\"Class {}\".format(i+1) for i in range(nclass)], loc=7)\n",
    "    plt.tight_layout()\n",
    "            \n",
    "\n",
    "plot_multi([prod_accs, str_w[:,0]], [\"Prod.'s acc\", \"Strata weight\"], 4)"
   ]
  },
  {
   "cell_type": "markdown",
   "metadata": {
    "collapsed": true,
    "slideshow": {
     "slide_type": "skip"
    }
   },
   "source": [
    "## SLIDES"
   ]
  },
  {
   "cell_type": "markdown",
   "metadata": {
    "slideshow": {
     "slide_type": "slide"
    }
   },
   "source": [
    "# Area estimation, accuracies and uncertainty"
   ]
  },
  {
   "cell_type": "markdown",
   "metadata": {
    "collapsed": true,
    "slideshow": {
     "slide_type": "slide"
    }
   },
   "source": [
    "### Motivation:\n",
    "\n",
    "- Need to understand the relationship between map accuracy and area uncertainty, among others.\n",
    "\n",
    "- Need to disentangle the effect of multiple factors that influence area uncertainty.\n",
    "\n",
    "- Need to analyze these things in a systematic way to avoid reaching false conclusions.\n"
   ]
  },
  {
   "cell_type": "markdown",
   "metadata": {
    "slideshow": {
     "slide_type": "slide"
    }
   },
   "source": [
    "### The basics\n",
    "\n",
    "A \"perfect\" confusion matrix would look like this:"
   ]
  },
  {
   "cell_type": "code",
   "execution_count": null,
   "metadata": {
    "collapsed": true,
    "slideshow": {
     "slide_type": "skip"
    }
   },
   "outputs": [],
   "source": [
    "strata_weights = calculate_weights(4, 'geometric', 1)\n",
    "perfect_weights = np.array([1.,0,0,0])\n",
    "dts1 = create_error_matrix(4, strata_weights, perfect_weights, 800)\n",
    "dst1 = run_calculations(dts1, total_area)\n",
    "df1 = create_dataframe(dts1, ['conf_mat', 'ni', 'str_wh'])"
   ]
  },
  {
   "cell_type": "code",
   "execution_count": null,
   "metadata": {
    "collapsed": true,
    "slideshow": {
     "slide_type": "fragment"
    }
   },
   "outputs": [],
   "source": [
    "df1"
   ]
  },
  {
   "cell_type": "markdown",
   "metadata": {
    "slideshow": {
     "slide_type": "subslide"
    }
   },
   "source": [
    "A slightly less than perfect matrix would look more like this."
   ]
  },
  {
   "cell_type": "code",
   "execution_count": null,
   "metadata": {
    "collapsed": true,
    "slideshow": {
     "slide_type": "skip"
    }
   },
   "outputs": [],
   "source": [
    "strata_weights = calculate_weights(4, 'linear', 0.5)\n",
    "sample_weights = calculate_weights(4, 'geometric', 0.01)\n",
    "dts1 = create_error_matrix(4, strata_weights, sample_weights, 800)\n",
    "dst1 = run_calculations(dts1, total_area)\n",
    "df2 = create_dataframe(dts1, ['conf_mat', 'ni', 'str_wh'])\n"
   ]
  },
  {
   "cell_type": "code",
   "execution_count": null,
   "metadata": {
    "collapsed": true,
    "slideshow": {
     "slide_type": "fragment"
    }
   },
   "outputs": [],
   "source": [
    "df2"
   ]
  },
  {
   "cell_type": "markdown",
   "metadata": {
    "slideshow": {
     "slide_type": "fragment"
    }
   },
   "source": [
    "How to describe how balanced/unbalanced these matrices are? How to characterize them?"
   ]
  },
  {
   "cell_type": "markdown",
   "metadata": {
    "slideshow": {
     "slide_type": "slide"
    }
   },
   "source": [
    "### Proposed solution\n",
    "\n",
    "Creating the tables using two sets of weights:\n",
    "\n",
    "1. Strata weights as they would come from the map (i.e row distribution)\n",
    "\n",
    "2. 'Sample weights' to convert a perfect confusion matrix into a more realistic one (i.e. column distribution)\n",
    "\n",
    "e.g. If I want to emulate 4 strata with equal area weights and 100% accurate"
   ]
  },
  {
   "cell_type": "code",
   "execution_count": null,
   "metadata": {
    "collapsed": true,
    "slideshow": {
     "slide_type": "fragment"
    }
   },
   "outputs": [],
   "source": [
    "strata_weights = calculate_weights(4, 'linear', 1)\n",
    "strata_weights\n"
   ]
  },
  {
   "cell_type": "code",
   "execution_count": null,
   "metadata": {
    "collapsed": true,
    "slideshow": {
     "slide_type": "fragment"
    }
   },
   "outputs": [],
   "source": [
    "perfect_weights = np.array([1.,0,0,0])\n",
    "dts1 = create_error_matrix(4, strata_weights, perfect_weights, 800)\n",
    "dst1 = run_calculations(dts1, total_area)\n",
    "create_dataframe(dts1, ['conf_mat', 'ni', 'str_wh'])"
   ]
  },
  {
   "cell_type": "markdown",
   "metadata": {
    "slideshow": {
     "slide_type": "subslide"
    }
   },
   "source": [
    "But if I want to \"spread\" the diagonal count into the other cells, so that the matrix \n",
    "is less than perfect:"
   ]
  },
  {
   "cell_type": "code",
   "execution_count": null,
   "metadata": {
    "collapsed": true,
    "slideshow": {
     "slide_type": "fragment"
    }
   },
   "outputs": [],
   "source": [
    "imperfect_weights = calculate_weights(4, 'linear', 0)\n",
    "imperfect_weights"
   ]
  },
  {
   "cell_type": "code",
   "execution_count": null,
   "metadata": {
    "collapsed": true,
    "slideshow": {
     "slide_type": "fragment"
    }
   },
   "outputs": [],
   "source": [
    "dts1 = create_error_matrix(4, strata_weights, imperfect_weights, 800)\n",
    "dst1 = run_calculations(dts1, total_area)\n",
    "create_dataframe(dts1, ['conf_mat', 'ni', 'str_wh'])"
   ]
  },
  {
   "cell_type": "markdown",
   "metadata": {
    "slideshow": {
     "slide_type": "fragment"
    }
   },
   "source": [
    "Here we have 4 map classes, each with the same weight, but the reference counts are spread\n",
    "so that ~50% remain in the diagonal, 30% in the next cell, 16% in the next and none in the last.\n",
    "\n",
    "This is done for every row."
   ]
  },
  {
   "cell_type": "markdown",
   "metadata": {
    "slideshow": {
     "slide_type": "subslide"
    }
   },
   "source": [
    "In that way, any weight distribution can be defined with a single parameter, a number between 0 and 1:\n",
    "\n",
    "- Values close to 0 give a more unbalanced weight distribution\n",
    "\n",
    "- Values close to 1 give a more even weight distribution"
   ]
  },
  {
   "cell_type": "markdown",
   "metadata": {
    "slideshow": {
     "slide_type": "slide"
    }
   },
   "source": [
    "### The results\n",
    "\n",
    "Multiple confusion matrices can be created, varying one of the weights at a time and recalculating accuracies, areas, etc, for every class.\n",
    "\n",
    "E.g. create 10 matrices, from very balanced to very unbalanced. Plot the weights of the dominant class against other variables.\n",
    "\n",
    "- Plot producer's accuracy, margin of error, confidence interval for the whole range of strata weights of the DOMINANT class, for a given sample weight\n",
    "\n",
    "- Same, but for the whole range of sample weight, for a given strata weight."
   ]
  },
  {
   "cell_type": "markdown",
   "metadata": {
    "slideshow": {
     "slide_type": "subslide"
    }
   },
   "source": [
    "For example, plot producer's accuracy VS the entire range of strata weights of the DOMINANT class, \n",
    "when the confusion matrix is almost perfect (90% of the samples are in the diagonal, 1% in the each of the other cells)"
   ]
  },
  {
   "cell_type": "code",
   "execution_count": null,
   "metadata": {
    "collapsed": true,
    "slideshow": {
     "slide_type": "fragment"
    }
   },
   "outputs": [],
   "source": [
    "calculate_weights(4, 'geometric', 0.001)"
   ]
  },
  {
   "cell_type": "code",
   "execution_count": null,
   "metadata": {
    "collapsed": true,
    "slideshow": {
     "slide_type": "subslide"
    }
   },
   "outputs": [],
   "source": [
    "plot_multi([prod_accs, str_w[:,0]], [\"Prod.'s acc\", \"Strata weight\"], 4)"
   ]
  },
  {
   "cell_type": "code",
   "execution_count": null,
   "metadata": {
    "collapsed": true,
    "slideshow": {
     "slide_type": "skip"
    }
   },
   "outputs": [],
   "source": []
  }
 ],
 "metadata": {
  "celltoolbar": "Slideshow",
  "kernelspec": {
   "display_name": "Python 3",
   "language": "python",
   "name": "python3"
  },
  "language_info": {
   "codemirror_mode": {
    "name": "ipython",
    "version": 3
   },
   "file_extension": ".py",
   "mimetype": "text/x-python",
   "name": "python",
   "nbconvert_exporter": "python",
   "pygments_lexer": "ipython3",
   "version": "3.5.3"
  }
 },
 "nbformat": 4,
 "nbformat_minor": 2
}
